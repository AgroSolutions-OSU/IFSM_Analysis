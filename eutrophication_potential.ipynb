{
 "cells": [
  {
   "cell_type": "code",
   "execution_count": 1,
   "metadata": {},
   "outputs": [],
   "source": [
    "import numpy as np\n"
   ]
  },
  {
   "cell_type": "code",
   "execution_count": 2,
   "metadata": {},
   "outputs": [],
   "source": [
    "# Equivalency Factors base don eutrophication report:\n",
    "\n",
    "eq_facts = {\n",
    "    'N_to_air': .42,\n",
    "    'NOx_to_air':.13,\n",
    "    'NH3_to_air':.35,\n",
    "    'N_to_water':.42,\n",
    "    'NO3_to_water':.10,\n",
    "    'NH4_to_water':.33,\n",
    "    'P_to_water':3.06,\n",
    "    'PO4_to_water':1\n",
    "}"
   ]
  },
  {
   "cell_type": "code",
   "execution_count": null,
   "metadata": {},
   "outputs": [],
   "source": [
    "# Values for the "
   ]
  },
  {
   "cell_type": "code",
   "execution_count": null,
   "metadata": {},
   "outputs": [],
   "source": [
    "# eutrophication potential\n",
    "ep = 0\n",
    "\n",
    "# calculation of eutrophication potential estimate\n",
    "\n",
    " "
   ]
  }
 ],
 "metadata": {
  "kernelspec": {
   "display_name": "AgSol",
   "language": "python",
   "name": "python3"
  },
  "language_info": {
   "codemirror_mode": {
    "name": "ipython",
    "version": 3
   },
   "file_extension": ".py",
   "mimetype": "text/x-python",
   "name": "python",
   "nbconvert_exporter": "python",
   "pygments_lexer": "ipython3",
   "version": "3.9.18"
  }
 },
 "nbformat": 4,
 "nbformat_minor": 2
}
